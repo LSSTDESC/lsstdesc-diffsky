{
 "cells": [
  {
   "cell_type": "markdown",
   "id": "3779d452",
   "metadata": {},
   "source": [
    "# Calculating SEDs for the Roman/Rubin 2023 Diffsky Mock\n",
    "\n",
    "This notebook illustrates how to calculate SEDs of diffsky galaxies, including the SED of the entire galaxy, and also its decomposition into contributions from the disk, bulge, and star-forming knots.\n",
    "\n",
    "First we'll download a very small dataset that stores a downsampling of data from a single healpixel of the `roman_rubin_2023` mock. "
   ]
  },
  {
   "cell_type": "code",
   "execution_count": null,
   "id": "7be74868",
   "metadata": {},
   "outputs": [],
   "source": [
    "! curl https://portal.nersc.gov/project/hacc/aphearin/lsstdesc_diffsky_data/diffsky_z_0_1_cutout_9171.testdata.hdf5 > diffsky.testdata.hdf5"
   ]
  },
  {
   "cell_type": "markdown",
   "id": "2a3b8d52",
   "metadata": {},
   "source": [
    "In this next cell we'll download the template SEDs of the simple stellar populations used to compute the galaxy SEDs."
   ]
  },
  {
   "cell_type": "code",
   "execution_count": null,
   "id": "66db7fe8",
   "metadata": {},
   "outputs": [],
   "source": [
    "! curl https://portal.nersc.gov/project/hacc/aphearin/DSPS_data/ssp_data_fsps_v3.2_lgmet_age.h5 > dsps_ssp_data.h5"
   ]
  },
  {
   "cell_type": "markdown",
   "id": "865900fd",
   "metadata": {},
   "source": [
    "### Retrieve model parameters\n",
    "\n",
    "The diffsky model has a number of parameters controlling the galaxy--halo connection. The next cell retrieves the values of these parameters used to generate the `roman_rubin_2023` mock. The returned quantity is a NamedTuple with a field name for the parameters of each DiffskyPop model ingredient."
   ]
  },
  {
   "cell_type": "code",
   "execution_count": null,
   "id": "833df371",
   "metadata": {},
   "outputs": [],
   "source": [
    "from lsstdesc_diffsky import read_diffskypop_params\n",
    "all_diffskypop_params = read_diffskypop_params(\"roman_rubin_2023\")\n",
    "print(all_diffskypop_params._fields)"
   ]
  },
  {
   "cell_type": "markdown",
   "id": "719c711b",
   "metadata": {},
   "source": [
    "### Load the Diffsky data from the test healpixel\n",
    "\n",
    "The next cell directly reads the hdf5 file storing the mock data. This test file is formatted in the same way as the healpixels distributed on NERSC: the data is separated by the simulation snapshot, and there is a metadata column storing additional information. For demonstration purposes, we'll just load galaxies directly from the hdf5 file with the `load_diffsky_healpixel` convenience function. The returned mock stores the full collection of data from the snapshots, concatenated and stored as a flat ndarray for each column.\n",
    "\n",
    "DESC users working at NERSC may instead wish to use the [GCR](https://github.com/yymao/generic-catalog-reader)."
   ]
  },
  {
   "cell_type": "code",
   "execution_count": null,
   "id": "59d69b57",
   "metadata": {},
   "outputs": [],
   "source": [
    "from lsstdesc_diffsky.io_utils import load_healpixel\n",
    "\n",
    "fn = \"diffsky.testdata.hdf5\"\n",
    "patlist = ('LSST', )\n",
    "mock, metadata = load_healpixel(fn, patlist)"
   ]
  },
  {
   "cell_type": "code",
   "execution_count": null,
   "id": "ed877abb",
   "metadata": {},
   "outputs": [],
   "source": [
    "print(mock.keys())"
   ]
  },
  {
   "cell_type": "markdown",
   "id": "f2e9b788",
   "metadata": {},
   "source": [
    "Each diffsky galaxy has its own individual parameters controlling its assembly history and SED. The `load_diffsky_params` function interprets the columns of the mock that store these parameters, and returns a collection of arrays that are formatted and shaped in the form expected by the function used to compute the SED of the disk, bulge, and knots."
   ]
  },
  {
   "cell_type": "code",
   "execution_count": null,
   "id": "b06c8cf5",
   "metadata": {},
   "outputs": [],
   "source": [
    "from lsstdesc_diffsky.io_utils import load_diffsky_params\n",
    "diffsky_param_data = load_diffsky_params(mock)"
   ]
  },
  {
   "cell_type": "markdown",
   "id": "aa07f46f",
   "metadata": {},
   "source": [
    "### Inspect the SSP data\n",
    "\n",
    "The `ssp_data` quantity stores all the information needed from the Simple Stellar Population templates to compute our galaxy SEDs."
   ]
  },
  {
   "cell_type": "code",
   "execution_count": null,
   "id": "a440cd2d",
   "metadata": {},
   "outputs": [],
   "source": [
    "from dsps.data_loaders import load_ssp_templates\n",
    "ssp_data = load_ssp_templates(fn='dsps_ssp_data.h5')\n",
    "\n",
    "print(ssp_data._fields)\n",
    "\n",
    "print('\\nssp_lgmet.shape = {}'.format(ssp_data.ssp_lgmet.shape))\n",
    "print('ssp_lg_age_gyr.shape = {}'.format(ssp_data.ssp_lg_age_gyr.shape))\n",
    "print('ssp_wave.shape = {}'.format(ssp_data.ssp_wave.shape))\n",
    "print('ssp_flux.shape = {}'.format(ssp_data.ssp_flux.shape))"
   ]
  },
  {
   "cell_type": "markdown",
   "id": "ff14080f",
   "metadata": {},
   "source": [
    "### Working with customized lower-resolution SEDs\n",
    "\n",
    "The SSP templates used in the Roman/Rubin 2023 mocks are high-resolution spectra ($R\\sim6000$ in the optical). You can speed up the galaxy SED computations if you use a lower-resolution version of these spectra. This next cell creates such a lower-res version of the SSP templates in a very crude way for demonstration purposes."
   ]
  },
  {
   "cell_type": "code",
   "execution_count": null,
   "id": "b7682e5f",
   "metadata": {},
   "outputs": [],
   "source": [
    "thin_ssp_wave = ssp_data.ssp_wave[::10]\n",
    "thin_ssp_flux = ssp_data.ssp_flux[:, :, ::10]"
   ]
  },
  {
   "cell_type": "markdown",
   "id": "115b9bca",
   "metadata": {},
   "source": [
    "However you may choose to thin the SSP templates, all downstream computations remain unchanged if you just pack your SSPs into an SSPData NamedTuple as shown below."
   ]
  },
  {
   "cell_type": "code",
   "execution_count": null,
   "id": "3ae6c51e",
   "metadata": {},
   "outputs": [],
   "source": [
    "from dsps.data_loaders import SSPData\n",
    "thin_ssp_data = SSPData(ssp_data.ssp_lgmet, ssp_data.ssp_lg_age_gyr, thin_ssp_wave, thin_ssp_flux)"
   ]
  },
  {
   "cell_type": "markdown",
   "id": "8b40f31c",
   "metadata": {},
   "source": [
    "### Compute the disk, bulge, and knot component SEDs of an individual galaxy\n",
    "\n",
    "There are separate diffsky functions that can be used to compute component SEDs of an individual object, or of a population of objects at a time. Computing SEDs of a population all at once can be much more efficient than the SEDs one object at a time, but taking advantage of speedups from vectorization comes at the cost of increasing the memory footprint of the calculation."
   ]
  },
  {
   "cell_type": "code",
   "execution_count": null,
   "id": "4cf05acd",
   "metadata": {},
   "outputs": [],
   "source": [
    "from lsstdesc_diffsky.sed import calc_rest_sed_disk_bulge_knot_singlegal\n",
    "from lsstdesc_diffsky.defaults import OUTER_RIM_COSMO_PARAMS\n",
    "\n",
    "igal = 0\n",
    "args = (mock['redshift'][igal],\n",
    "    diffsky_param_data.mah_params[igal],\n",
    "    diffsky_param_data.ms_params[igal],\n",
    "    diffsky_param_data.q_params[igal],\n",
    "    diffsky_param_data.fbulge_params[igal],\n",
    "    diffsky_param_data.fknot[igal],\n",
    "    *ssp_data,\n",
    "    *all_diffskypop_params,\n",
    "    OUTER_RIM_COSMO_PARAMS)\n",
    "\n",
    "disk_bulge_sed_info = calc_rest_sed_disk_bulge_knot_singlegal(*args)\n",
    "print(disk_bulge_sed_info._fields)\n",
    "\n",
    "print(disk_bulge_sed_info.rest_sed_bulge.shape)\n",
    "print(disk_bulge_sed_info.rest_sed_diffuse_disk.shape)\n",
    "print(disk_bulge_sed_info.rest_sed_knot.shape)"
   ]
  },
  {
   "cell_type": "markdown",
   "id": "ca768164",
   "metadata": {},
   "source": [
    "### Compute the disk, bulge, and knot SED of an entire galaxy population at once"
   ]
  },
  {
   "cell_type": "code",
   "execution_count": null,
   "id": "e69f5fee",
   "metadata": {},
   "outputs": [],
   "source": [
    "from lsstdesc_diffsky.sed import calc_rest_sed_disk_bulge_knot_galpop\n",
    "from lsstdesc_diffsky.defaults import OUTER_RIM_COSMO_PARAMS\n",
    "\n",
    "args = (mock['redshift'],\n",
    "    diffsky_param_data.mah_params,\n",
    "    diffsky_param_data.ms_params,\n",
    "    diffsky_param_data.q_params,\n",
    "    diffsky_param_data.fbulge_params,\n",
    "    diffsky_param_data.fknot,\n",
    "    *ssp_data,\n",
    "    *all_diffskypop_params,\n",
    "    OUTER_RIM_COSMO_PARAMS)\n",
    "\n",
    "disk_bulge_sed_info = calc_rest_sed_disk_bulge_knot_galpop(*args)\n",
    "print(disk_bulge_sed_info._fields)\n",
    "\n",
    "print(disk_bulge_sed_info.rest_sed_bulge.shape)\n",
    "print(disk_bulge_sed_info.rest_sed_diffuse_disk.shape)\n",
    "print(disk_bulge_sed_info.rest_sed_knot.shape)"
   ]
  },
  {
   "cell_type": "markdown",
   "id": "28f279ca",
   "metadata": {},
   "source": [
    "### Plot the disk/bulge/knot SEDs of an example galaxy\n",
    "\n",
    "The cell below shows how to interpret the named tuple returned by the above computation. The in-panel annotation shows the fraction of stellar mass in the galaxy, which is also returned above."
   ]
  },
  {
   "cell_type": "code",
   "execution_count": null,
   "id": "47aa6c0d",
   "metadata": {},
   "outputs": [],
   "source": [
    "from matplotlib import pyplot as plt\n",
    "\n",
    "fig, ax = plt.subplots(1, 1)\n",
    "xlim = ax.set_xlim(1e3, 1e5)\n",
    "ylim = ax.set_ylim(5e-11, 2e-5)\n",
    "\n",
    "__=ax.loglog()\n",
    "\n",
    "igal = 5\n",
    "\n",
    "__=ax.plot(\n",
    "    ssp_data.ssp_wave, \n",
    "    disk_bulge_sed_info.rest_sed_bulge[igal, :], \n",
    "    label=r'${\\rm bulge}$', color='red')\n",
    "__=ax.plot(ssp_data.ssp_wave, \n",
    "           disk_bulge_sed_info.rest_sed_diffuse_disk[igal, :], \n",
    "           label=r'${\\rm diffuse\\ disk}$', color='green')\n",
    "__=ax.plot(ssp_data.ssp_wave, \n",
    "           disk_bulge_sed_info.rest_sed_knot[igal, :],\n",
    "           label=r'${\\rm star-forming\\ knots}$', color='purple')\n",
    "\n",
    "frac_bulge_igal = disk_bulge_sed_info.mstar_bulge[igal]/disk_bulge_sed_info.mstar_total[igal]\n",
    "title = ax.set_title('B/T={0:.1f}'.format(frac_bulge_igal))\n",
    "leg = ax.legend(loc='upper right')\n",
    "xlabel = ax.set_xlabel(r'$\\lambda\\ [{\\rm Angstrom}]$')\n",
    "ylabel = ax.set_ylabel(r'${\\rm SED\\ [L_{\\odot}/Hz]}$')"
   ]
  },
  {
   "cell_type": "markdown",
   "id": "47f03506",
   "metadata": {},
   "source": [
    "### Now clean up the temporary files"
   ]
  },
  {
   "cell_type": "code",
   "execution_count": null,
   "id": "aa05c885",
   "metadata": {},
   "outputs": [],
   "source": [
    "! rm dsps_ssp_data.h5"
   ]
  },
  {
   "cell_type": "code",
   "execution_count": null,
   "id": "3c5e2df9",
   "metadata": {},
   "outputs": [],
   "source": [
    "! rm diffsky.testdata.hdf5"
   ]
  }
 ],
 "metadata": {
  "kernelspec": {
   "display_name": "Python 3 (ipykernel)",
   "language": "python",
   "name": "python3"
  },
  "language_info": {
   "codemirror_mode": {
    "name": "ipython",
    "version": 3
   },
   "file_extension": ".py",
   "mimetype": "text/x-python",
   "name": "python",
   "nbconvert_exporter": "python",
   "pygments_lexer": "ipython3",
   "version": "3.11.4"
  }
 },
 "nbformat": 4,
 "nbformat_minor": 5
}
