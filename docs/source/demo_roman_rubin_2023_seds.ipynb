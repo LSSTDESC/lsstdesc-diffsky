{
 "cells": [
  {
   "cell_type": "markdown",
   "id": "3779d452",
   "metadata": {},
   "source": [
    "# Calculating SEDs for the Roman/Rubin 2023 Diffsky Mock\n",
    "\n",
    "This notebook illustrates how to calculate high-res SEDs of diffsky galaxies, including the SED of the entire galaxy, and also the SED of each galaxy's decomposition into a disk, bulge, and star-forming knots.\n",
    "\n",
    "First we'll download a very small dataset that stores a downsampling of data from a single healpixel of the `roman_rubin_2023` mock. Then we'll down the template SEDs of the simple stellar populations used to compute the galaxy SEDs."
   ]
  },
  {
   "cell_type": "code",
   "execution_count": null,
   "id": "7be74868",
   "metadata": {},
   "outputs": [],
   "source": [
    "! curl https://portal.nersc.gov/project/hacc/aphearin/lsstdesc_diffsky_data/diffsky_z_0_1_cutout_9171.testdata.hdf5 > diffsky.testdata.hdf5"
   ]
  },
  {
   "cell_type": "code",
   "execution_count": null,
   "id": "66db7fe8",
   "metadata": {},
   "outputs": [],
   "source": [
    "! curl https://portal.nersc.gov/project/hacc/aphearin/DSPS_data/ssp_data_fsps_v3.2_lgmet_age.h5 > dsps_ssp_data.h5"
   ]
  },
  {
   "cell_type": "markdown",
   "id": "865900fd",
   "metadata": {},
   "source": [
    "### Retrieve model parameters\n",
    "\n",
    "The diffsky model has a number of parameters controlling the galaxy--halo connection. The next cell retrieves the values of these parameters used to generate the `roman_rubin_2023` mock"
   ]
  },
  {
   "cell_type": "code",
   "execution_count": null,
   "id": "833df371",
   "metadata": {},
   "outputs": [],
   "source": [
    "from lsstdesc_diffsky.param_data import read_mock_params\n",
    "all_mock_params = read_mock_params(\"roman_rubin_2023\")"
   ]
  },
  {
   "cell_type": "markdown",
   "id": "719c711b",
   "metadata": {},
   "source": [
    "### Load the Diffsky data from the test healpixel\n",
    "\n",
    "The next cell directly reads the hdf5 file storing the mock data. This test file is formatted in the same way as the healpixels distributed on NERSC: the data is separated by the simulation snapshot, and there is an metadata column storing additional information. For demonstration purposes, we'll just load galaxies from a single snapshot. If you're doing your analysis on NERSC, you may instead wish to use the DESC reader to load the data. We'll only read the columns needed to compute the SEDs of the disk, bulge, and knots."
   ]
  },
  {
   "cell_type": "code",
   "execution_count": null,
   "id": "ab855819",
   "metadata": {},
   "outputs": [],
   "source": [
    "import h5py\n",
    "import numpy as np\n",
    "from lsstdesc_diffsky.constants import MAH_PNAMES, MS_PNAMES, Q_PNAMES, FBULGE_PNAMES, BURSTSHAPE_PNAMES\n",
    "\n",
    "fn = \"diffsky.testdata.hdf5\"\n",
    "with h5py.File(fn, 'r') as hdf:\n",
    "    print(hdf.keys())\n",
    "    snapkey = '373'\n",
    "    keylist = list(hdf[snapkey].keys())\n",
    "    gal_mah_params = np.vstack([hdf[snapkey][key][...] for key in MAH_PNAMES]).T\n",
    "    gal_ms_params = np.vstack([hdf[snapkey][key][...] for key in MS_PNAMES]).T\n",
    "    gal_q_params = np.vstack([hdf[snapkey][key][...] for key in Q_PNAMES]).T\n",
    "    gal_fbulge_params = np.vstack([hdf[snapkey][key][...] for key in FBULGE_PNAMES]).T\n",
    "    gal_burstshape_params = np.vstack([hdf[snapkey][key][...] for key in BURSTSHAPE_PNAMES]).T\n",
    "    gal_fknot = hdf[snapkey]['fknot'][...]\n",
    "    gal_fburst = hdf[snapkey]['fburst'][...]\n",
    "    gal_redshift = hdf[snapkey]['redshift'][...]"
   ]
  },
  {
   "cell_type": "markdown",
   "id": "aa07f46f",
   "metadata": {},
   "source": [
    "### Inspect the SSP data"
   ]
  },
  {
   "cell_type": "code",
   "execution_count": null,
   "id": "a440cd2d",
   "metadata": {},
   "outputs": [],
   "source": [
    "from dsps.data_loaders import load_ssp_templates\n",
    "ssp_data = load_ssp_templates(fn='dsps_ssp_data.h5')\n",
    "\n",
    "print(ssp_data._fields)\n",
    "\n",
    "print('\\nssp_lgmet.shape = {}'.format(ssp_data.ssp_lgmet.shape))\n",
    "print('ssp_lg_age_gyr.shape = {}'.format(ssp_data.ssp_lg_age_gyr.shape))\n",
    "print('ssp_wave.shape = {}'.format(ssp_data.ssp_wave.shape))\n",
    "print('ssp_flux.shape = {}'.format(ssp_data.ssp_flux.shape))"
   ]
  },
  {
   "cell_type": "markdown",
   "id": "8b40f31c",
   "metadata": {},
   "source": [
    "### Compute the SEDs"
   ]
  },
  {
   "cell_type": "code",
   "execution_count": null,
   "id": "e69f5fee",
   "metadata": {},
   "outputs": [],
   "source": [
    "from lsstdesc_diffsky.sed import calc_rest_sed_disk_bulge_knot_galpop\n",
    "from lsstdesc_diffsky.defaults import OUTER_RIM_COSMO_PARAMS\n",
    "\n",
    "args = (gal_redshift,\n",
    "    gal_mah_params,\n",
    "    gal_ms_params,\n",
    "    gal_q_params,\n",
    "    gal_fbulge_params,\n",
    "    gal_fknot,\n",
    "    *ssp_data,\n",
    "    *all_mock_params,\n",
    "    OUTER_RIM_COSMO_PARAMS)\n",
    "\n",
    "disk_bulge_sed_info = calc_rest_sed_disk_bulge_knot_galpop(*args)\n",
    "disk_bulge_sed_info._fields"
   ]
  },
  {
   "cell_type": "markdown",
   "id": "28f279ca",
   "metadata": {},
   "source": [
    "### Plot the disk/bulge/knot SEDs of an example galaxy"
   ]
  },
  {
   "cell_type": "code",
   "execution_count": null,
   "id": "47aa6c0d",
   "metadata": {},
   "outputs": [],
   "source": [
    "from matplotlib import pyplot as plt\n",
    "\n",
    "fig, ax = plt.subplots(1, 1)\n",
    "__=ax.loglog()\n",
    "\n",
    "igal = 9\n",
    "\n",
    "__=ax.plot(\n",
    "    ssp_data.ssp_wave, \n",
    "    disk_bulge_sed_info.rest_sed_bulge[igal, :], \n",
    "    label=r'${\\rm bulge}$', color='red')\n",
    "__=ax.plot(ssp_data.ssp_wave, \n",
    "           disk_bulge_sed_info.rest_sed_diffuse_disk[igal, :], \n",
    "           label=r'${\\rm diffuse disk}$', color='green')\n",
    "__=ax.plot(ssp_data.ssp_wave, \n",
    "           disk_bulge_sed_info.rest_sed_knot[igal, :],\n",
    "           label=r'${\\rm star-forming knots}$', color='purple')\n",
    "\n",
    "leg = ax.legend()\n",
    "xlabel = ax.set_xlabel(r'$\\lambda\\ [{\\rm Angstrom}]$')\n",
    "ylabel = ax.set_ylabel(r'${\\rm SED\\ [L_{\\odot}/Hz]}$')"
   ]
  },
  {
   "cell_type": "markdown",
   "id": "658adc30",
   "metadata": {},
   "source": [
    "### Inspect a few other quantities "
   ]
  },
  {
   "cell_type": "code",
   "execution_count": null,
   "id": "38f731e2",
   "metadata": {},
   "outputs": [],
   "source": [
    "mstar = disk_bulge_sed_info.mstar_total[igal]\n",
    "print(\"Total stellar mass = {0:.1e} Msun\".format(mstar))\n",
    "\n",
    "bt = disk_bulge_sed_info.mstar_bulge[igal]/disk_bulge_sed_info.mstar_total[igal]\n",
    "print(\"bulge/total mass ratio = {0:.3f}\".format(bt))"
   ]
  },
  {
   "cell_type": "code",
   "execution_count": null,
   "id": "ebfd2486",
   "metadata": {},
   "outputs": [],
   "source": []
  }
 ],
 "metadata": {
  "kernelspec": {
   "display_name": "Python 3 (ipykernel)",
   "language": "python",
   "name": "python3"
  },
  "language_info": {
   "codemirror_mode": {
    "name": "ipython",
    "version": 3
   },
   "file_extension": ".py",
   "mimetype": "text/x-python",
   "name": "python",
   "nbconvert_exporter": "python",
   "pygments_lexer": "ipython3",
   "version": "3.11.4"
  }
 },
 "nbformat": 4,
 "nbformat_minor": 5
}
