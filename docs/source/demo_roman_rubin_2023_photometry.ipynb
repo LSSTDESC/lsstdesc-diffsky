{
 "cells": [
  {
   "cell_type": "markdown",
   "id": "e319d3e0",
   "metadata": {},
   "source": [
    "# Calculating photometry for Roman/Rubin 2023 Diffsky galaxies\n",
    "\n",
    "This notebook illustrates how to calculate photometry predictions from the physical parameters of each diffsky galaxy. There's demo code showing how to compute exact photometry for a single galaxy at a time, and also a demo of calculating approximate photometry for large galaxy populations at once.\n",
    "\n",
    "#### Download mock galaxy data\n",
    "\n",
    "First we'll download a very small dataset that stores a downsampling of data from a single healpixel of the `roman_rubin_2023` mock."
   ]
  },
  {
   "cell_type": "code",
   "execution_count": null,
   "id": "e677883d",
   "metadata": {},
   "outputs": [],
   "source": [
    "! curl https://portal.nersc.gov/project/hacc/aphearin/lsstdesc_diffsky_data/diffsky_z_0_1_cutout_9171.testdata.hdf5 > diffsky.testdata.hdf5"
   ]
  },
  {
   "cell_type": "markdown",
   "id": "d063eac7",
   "metadata": {},
   "source": [
    "### Load the Diffsky data from the test healpixel\n",
    "\n",
    "The next cell directly reads the hdf5 file storing the mock data. This test file is formatted in the same way as the healpixels distributed on NERSC: the data is separated by the simulation snapshot, and there is a metadata column storing additional information. For demonstration purposes, we'll just load galaxies directly from the hdf5 file with the `load_diffsky_healpixel` convenience function. The returned mock stores the full collection of data from the snapshots, concatenated and stored as a flat ndarray for each column.\n",
    "\n",
    "DESC users working at NERSC may instead wish to use the [GCR](https://github.com/yymao/generic-catalog-reader)."
   ]
  },
  {
   "cell_type": "code",
   "execution_count": null,
   "id": "7d1f8a0f",
   "metadata": {},
   "outputs": [],
   "source": [
    "from lsstdesc_diffsky.io_utils import load_healpixel\n",
    "\n",
    "fn = \"diffsky.testdata.hdf5\"\n",
    "patlist = ('LSST', )\n",
    "mock, metadata = load_healpixel(fn, patlist)"
   ]
  },
  {
   "cell_type": "markdown",
   "id": "2c08cb09",
   "metadata": {},
   "source": [
    "### Download and inspect template SEDs for SSPs\n",
    "\n",
    "In this next cell we'll download the template SEDs of the simple stellar populations used to compute the galaxy SEDs."
   ]
  },
  {
   "cell_type": "code",
   "execution_count": null,
   "id": "ac5cc4a2",
   "metadata": {},
   "outputs": [],
   "source": [
    "! curl https://portal.nersc.gov/project/hacc/aphearin/DSPS_data/ssp_data_fsps_v3.2_age.h5 > dsps_ssp_data_singlemet.h5"
   ]
  },
  {
   "cell_type": "markdown",
   "id": "66c0aa08",
   "metadata": {},
   "source": [
    "The `ssp_data` quantity stores all the information needed from the Simple Stellar Population templates to compute our galaxy SEDs. Note that these kernels are imported a custom version of dsps located within lsstdesc_diffsky:"
   ]
  },
  {
   "cell_type": "code",
   "execution_count": null,
   "id": "c00957ae",
   "metadata": {},
   "outputs": [],
   "source": [
    "from lsstdesc_diffsky.legacy.roman_rubin_2023.dsps.data_loaders.load_ssp_data import load_ssp_templates_singlemet\n",
    "ssp_data = load_ssp_templates_singlemet(fn='dsps_ssp_data_singlemet.h5')\n",
    "\n",
    "print(ssp_data._fields)\n",
    "\n",
    "print('ssp_lg_age_gyr.shape = {}'.format(ssp_data.ssp_lg_age_gyr.shape))\n",
    "print('ssp_wave.shape = {}'.format(ssp_data.ssp_wave.shape))\n",
    "print('ssp_flux.shape = {}'.format(ssp_data.ssp_flux.shape))"
   ]
  },
  {
   "cell_type": "markdown",
   "id": "c0b02b84",
   "metadata": {},
   "source": [
    "#### Load transmission curves\n",
    "\n"
   ]
  },
  {
   "cell_type": "code",
   "execution_count": null,
   "id": "1b1a8cac",
   "metadata": {},
   "outputs": [],
   "source": [
    "from dsps.data_loaders.load_filter_data import load_transmission_curve\n",
    "\n",
    "bandpats = (\"lsst_u*\", \"lsst_g*\", \"lsst_r*\")\n",
    "trans_data = [load_transmission_curve(bn_pat=bn_pat) for bn_pat in bandpats]"
   ]
  },
  {
   "cell_type": "code",
   "execution_count": null,
   "id": "f1c9260f",
   "metadata": {},
   "outputs": [],
   "source": [
    "from lsstdesc_diffsky.photometry.precompute_ssp_tables import interpolate_filter_trans_curves\n",
    "\n",
    "wave_filters = [x.wave for x in trans_data]\n",
    "trans_filters = [x.transmission for x in trans_data]\n",
    "rest_filter_waves, rest_filter_trans = interpolate_filter_trans_curves(wave_filters, trans_filters)\n",
    "obs_filter_waves, obs_filter_trans = interpolate_filter_trans_curves(wave_filters, trans_filters)"
   ]
  },
  {
   "cell_type": "markdown",
   "id": "20fd7a5c",
   "metadata": {},
   "source": [
    "### Retrieve Diffsky parameters of each galaxy\n",
    "\n",
    "Each individual diffsky galaxy has its own parameters controlling its assembly history and SED. The `load_diffsky_params` function interprets the columns of the mock that store these parameters, and returns a collection of arrays that are formatted and shaped in the form expected by the function used to compute the SED of the disk, bulge, and knots."
   ]
  },
  {
   "cell_type": "code",
   "execution_count": null,
   "id": "4851ea73",
   "metadata": {},
   "outputs": [],
   "source": [
    "from lsstdesc_diffsky.io_utils import load_diffsky_params\n",
    "diffsky_params = load_diffsky_params(mock)"
   ]
  },
  {
   "cell_type": "markdown",
   "id": "f75f0ca2",
   "metadata": {},
   "source": [
    "### Retrieve DiffskyPop parameters for the `roman_rubin_2023` mock\n",
    "\n",
    "\n",
    "The DiffskyPop model has a number of parameters controlling the probabilistic relationships of the galaxy--halo connection. The next cell retrieves the values of these parameters used to generate the `roman_rubin_2023` mock. The returned quantity is a NamedTuple with a field name for the parameters of each DiffskyPop model ingredient."
   ]
  },
  {
   "cell_type": "code",
   "execution_count": null,
   "id": "6e0ff41f",
   "metadata": {},
   "outputs": [],
   "source": [
    "from lsstdesc_diffsky.param_data import read_diffskypop_params\n",
    "diffskypop_params = read_diffskypop_params('roman_rubin_2023')"
   ]
  },
  {
   "cell_type": "markdown",
   "id": "6e1db9b8",
   "metadata": {},
   "source": [
    "# Calculating exact photometry for an individual galaxy\n",
    "\n",
    "\n",
    "Docs coming soon!"
   ]
  },
  {
   "cell_type": "markdown",
   "id": "a40235dc",
   "metadata": {},
   "source": [
    "# Calculating approximate photometry for a large galaxy population\n",
    "\n",
    "There are a couple of approximations we can make in calculating the photometry that offer orders-of-magnitude improvement in memory efficiency and runtime. These approximations give a statistically unbiased magnitude with typical scatter of $\\sigma(\\delta{\\rm mag})\\approx0.05$, and so calculating approximate photometry can be much more practical when studying large galaxy populations. The details behind the approximations are described in [these notes](https://www.overleaf.com/read/pqptngggwrhw#c4af95).\n",
    "\n",
    "\n",
    "#### Precompute photometry of SSP template SEDs\n",
    "\n",
    "In the next cell we compute the restframe magnitudes of our SSPs through each filter, and in the following cell we do the same calculation for apparent magnitudes of our SSPs on a grid of redshift."
   ]
  },
  {
   "cell_type": "code",
   "execution_count": null,
   "id": "1861dea0",
   "metadata": {},
   "outputs": [],
   "source": [
    "from lsstdesc_diffsky.photometry.precompute_ssp_tables import precompute_ssp_obsmags_on_z_table_singlemet\n",
    "from lsstdesc_diffsky.defaults import OUTER_RIM_COSMO_PARAMS\n",
    "\n",
    "z_table = np.linspace(0.01, mock['redshift'].max()+0.05, 51)\n",
    "\n",
    "ssp_obsmag_table = precompute_ssp_obsmags_on_z_table_singlemet(\n",
    "    ssp_data.ssp_wave, ssp_data.ssp_flux,\n",
    "    obs_filter_waves, obs_filter_trans, z_table,\n",
    "    *OUTER_RIM_COSMO_PARAMS[:-1])"
   ]
  },
  {
   "cell_type": "code",
   "execution_count": null,
   "id": "1cb4cb6c",
   "metadata": {},
   "outputs": [],
   "source": [
    "from lsstdesc_diffsky.photometry.precompute_ssp_tables import precompute_ssp_restmags_singlemet\n",
    "\n",
    "ssp_restmag_table = precompute_ssp_restmags_singlemet(\n",
    "    ssp_data.ssp_wave, ssp_data.ssp_flux, rest_filter_waves, rest_filter_trans)"
   ]
  },
  {
   "cell_type": "markdown",
   "id": "6189796f",
   "metadata": {},
   "source": [
    "### Compute galaxy photometry"
   ]
  },
  {
   "cell_type": "code",
   "execution_count": null,
   "id": "3fdc6467",
   "metadata": {},
   "outputs": [],
   "source": [
    "from lsstdesc_diffsky.photometry.photometry_lc_interp_singlemet import get_diffsky_sed_info_singlemet\n",
    "from dsps.cosmology.flat_wcdm import age_at_z0\n",
    "from jax import random as jran\n",
    "\n",
    "ran_key = jran.PRNGKey(0)\n",
    "\n",
    "t0 = age_at_z0(*OUTER_RIM_COSMO_PARAMS[:-1])\n",
    "gal_t_table = np.linspace(0.1, t0, 100)\n",
    "\n",
    "ssp_z_table = np.linspace(mock['redshift'].min()/2, mock['redshift'].max()+0.1, 51)\n",
    "\n",
    "args = (ran_key,\n",
    "    mock['redshift'],\n",
    "    diffsky_params.mah_params,\n",
    "    diffsky_params.ms_params,\n",
    "    diffsky_params.q_params,\n",
    "    ssp_z_table,\n",
    "    ssp_restmag_table,\n",
    "    ssp_obsmag_table,\n",
    "    ssp_data,\n",
    "    gal_t_table,\n",
    "    rest_filter_waves,\n",
    "    rest_filter_trans,\n",
    "    obs_filter_waves,\n",
    "    obs_filter_trans,\n",
    "    diffskypop_params,\n",
    "    OUTER_RIM_COSMO_PARAMS)\n",
    "\n",
    "sed_info = get_diffsky_sed_info_singlemet(*args)"
   ]
  },
  {
   "cell_type": "markdown",
   "id": "e288b400",
   "metadata": {},
   "source": [
    "#### Interpreting the results\n",
    "\n",
    "The returned `sed_info` is a namedtuple that stores the calculated photometry along with numerous other quantities computed along the way.\n",
    "* Columns `gal_obsmags_dust` stores the apparent magnitudes of each galaxy on each input observer-frame filter\n",
    "* Columns `gal_restmags_dust` stores the absolute magnitude in the restframe of the galaxy\n",
    "* The `_dust` and `_nodust` quantities refer to whether or not dust attenuation in the emitting galaxy is included in the magnitude computation (in particular, neither quantity takes any account of dust in the Milky Way)"
   ]
  },
  {
   "cell_type": "code",
   "execution_count": null,
   "id": "5d318ae2",
   "metadata": {},
   "outputs": [],
   "source": [
    "print(sed_info._fields)"
   ]
  },
  {
   "cell_type": "code",
   "execution_count": null,
   "id": "38a88fe2",
   "metadata": {},
   "outputs": [],
   "source": [
    "print(sed_info.gal_obsmags_dust.shape)"
   ]
  },
  {
   "cell_type": "code",
   "execution_count": null,
   "id": "09b00864",
   "metadata": {},
   "outputs": [],
   "source": [
    "fig, ax = plt.subplots(1, 1)\n",
    "ylim = ax.set_ylim(-0.2, 1.25)\n",
    "__=ax.scatter(\n",
    "    mock['redshift'], \n",
    "    sed_info.gal_restmags_dust[:, 1]-sed_info.gal_restmags_dust[:, 2], s=2)\n",
    "\n",
    "xlabel = ax.set_xlabel('redshift')\n",
    "ylabel = ax.set_ylabel('g-r')"
   ]
  },
  {
   "cell_type": "code",
   "execution_count": null,
   "id": "f78c6872",
   "metadata": {},
   "outputs": [],
   "source": []
  },
  {
   "cell_type": "markdown",
   "id": "ac25661b",
   "metadata": {},
   "source": [
    "### Now clean up the temporary files"
   ]
  },
  {
   "cell_type": "code",
   "execution_count": null,
   "id": "e931a524",
   "metadata": {},
   "outputs": [],
   "source": [
    "! rm dsps_ssp_data_singlemet.h5\n",
    "! rm diffsky.testdata.hdf5"
   ]
  }
 ],
 "metadata": {
  "kernelspec": {
   "display_name": "Python 3 (ipykernel)",
   "language": "python",
   "name": "python3"
  },
  "language_info": {
   "codemirror_mode": {
    "name": "ipython",
    "version": 3
   },
   "file_extension": ".py",
   "mimetype": "text/x-python",
   "name": "python",
   "nbconvert_exporter": "python",
   "pygments_lexer": "ipython3",
   "version": "3.11.4"
  }
 },
 "nbformat": 4,
 "nbformat_minor": 5
}
