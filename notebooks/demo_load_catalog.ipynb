{
 "cells": [
  {
   "cell_type": "code",
   "execution_count": null,
   "id": "c5cd29e5-2505-4da4-866a-d39ee3d2126d",
   "metadata": {},
   "outputs": [],
   "source": [
    "import sys\n",
    "import os\n",
    "import numpy as np\n",
    "sys.path.insert(0, '/global/homes/k/kovacs/gcr-catalogs_diffsky_v0.1')\n",
    "import numpy as np\n",
    "import GCRCatalogs\n",
    "gc = GCRCatalogs.load_catalog('diffsky_v0.1.1_p39991_test')\n",
    "#from lsstdesc_diffsky.constants import MAH_PNAMES, MS_U_PNAMES, Q_U_PNAMES\n",
    "import matplotlib.pyplot as plt\n",
    "%matplotlib inline"
   ]
  },
  {
   "cell_type": "code",
   "execution_count": null,
   "id": "276d61a8-f6e4-4163-924d-81d8e9cd2396",
   "metadata": {},
   "outputs": [],
   "source": [
    "native_quantities = sorted(gc.list_all_native_quantities())\n",
    "print(native_quantities)"
   ]
  },
  {
   "cell_type": "code",
   "execution_count": null,
   "id": "405f2909-52f5-4a6b-a590-51009f891992",
   "metadata": {},
   "outputs": [],
   "source": [
    "hsc = [q for q in native_quantities if 'HSC' in q]\n",
    "print(hsc)"
   ]
  },
  {
   "cell_type": "markdown",
   "id": "78117312-a3d6-49cd-92f4-66ce87408121",
   "metadata": {},
   "source": [
    "Fetch quantities and make some plots"
   ]
  },
  {
   "cell_type": "code",
   "execution_count": null,
   "id": "829bd82e-d175-424d-aa71-68be7f63e4c5",
   "metadata": {},
   "outputs": [],
   "source": [
    "gals = gc.get_quantities(hsc + ['redshift'])"
   ]
  },
  {
   "cell_type": "markdown",
   "id": "8398e961-1b4b-4431-8712-f5c43bbb620a",
   "metadata": {},
   "source": [
    "Compute colors"
   ]
  },
  {
   "cell_type": "code",
   "execution_count": null,
   "id": "b58b229b-479b-415d-82e6-ed77d3fac429",
   "metadata": {},
   "outputs": [],
   "source": [
    "gals['gr'] = gals['HSC_obs_g'] - gals['HSC_obs_r']\n",
    "gals['ri'] = gals['HSC_obs_r'] - gals['HSC_obs_i']"
   ]
  },
  {
   "cell_type": "markdown",
   "id": "9c6b107e-2eb3-45cb-8cc1-f5be836b09ed",
   "metadata": {},
   "source": [
    "Plot color distributions"
   ]
  },
  {
   "cell_type": "code",
   "execution_count": null,
   "id": "d3a593c0-1c6e-485f-a3d9-160f7bdb1e87",
   "metadata": {},
   "outputs": [],
   "source": [
    "fig, ax_all = plt.subplots(1, 2, figsize=(13, 6))\n",
    "Nbins = 40\n",
    "zbins = np.linspace(0, 2.0, 5)\n",
    "magi = 25\n",
    "for c, ax in zip(['gr', 'ri'], ax_all.flat):\n",
    "    for zlo, zhi in zip(zbins[:-1], zbins[1:]):\n",
    "        zmask = (gals['redshift'] > zlo) & (gals['redshift'] <= zhi)\n",
    "        imask = (gals['HSC_obs_i'] < magi)\n",
    "        gmask = zmask & imask\n",
    "        zlabel = '{:.1f} < z <{:.1f}'.format(zlo, zhi)\n",
    "        ax.hist(gals[c][zmask], Nbins, label = zlabel, density=True, histtype='stepfilled', alpha=0.4)\n",
    "        \n",
    "    ax.set_xlabel('{}-{}'.format(c[0], c[1]), fontsize=16)\n",
    "    ax.legend(loc='best', title='$HSC_i < {:.1f}$'.format(magi))\n",
    "    "
   ]
  },
  {
   "cell_type": "code",
   "execution_count": null,
   "id": "f68d2bb8-fbaf-47a6-8316-ef3edccce2f5",
   "metadata": {},
   "outputs": [],
   "source": []
  }
 ],
 "metadata": {
  "kernelspec": {
   "display_name": "desc-python",
   "language": "python",
   "name": "desc-python"
  },
  "language_info": {
   "codemirror_mode": {
    "name": "ipython",
    "version": 3
   },
   "file_extension": ".py",
   "mimetype": "text/x-python",
   "name": "python",
   "nbconvert_exporter": "python",
   "pygments_lexer": "ipython3",
   "version": "3.10.10"
  }
 },
 "nbformat": 4,
 "nbformat_minor": 5
}
