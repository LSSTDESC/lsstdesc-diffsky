{
 "cells": [
  {
   "cell_type": "code",
   "execution_count": null,
   "id": "c5cd29e5-2505-4da4-866a-d39ee3d2126d",
   "metadata": {},
   "outputs": [],
   "source": [
    "import sys\n",
    "import os\n",
    "import numpy as np\n",
    "from astropy.table import Table\n",
    "import GCRCatalogs\n",
    "from lsstdesc_diffsky.constants import MAH_PNAMES, MS_U_PNAMES, Q_U_PNAMES\n",
    "import matplotlib.pyplot as plt\n",
    "%matplotlib inline"
   ]
  },
  {
   "cell_type": "code",
   "execution_count": null,
   "id": "180b5ed0-8d43-4c2c-8232-4ae51f16bbfa",
   "metadata": {},
   "outputs": [],
   "source": [
    "gc = GCRCatalogs.load_catalog('skysim_v3.1.0_small')\n",
    "native_quantities = sorted(gc.list_all_native_quantities())"
   ]
  },
  {
   "cell_type": "code",
   "execution_count": null,
   "id": "4ed8f91e-3190-4d19-9d75-a9b153889039",
   "metadata": {},
   "outputs": [],
   "source": []
  }
 ],
 "metadata": {
  "kernelspec": {
   "display_name": "mydesc",
   "language": "python",
   "name": "mydesc"
  },
  "language_info": {
   "codemirror_mode": {
    "name": "ipython",
    "version": 3
   },
   "file_extension": ".py",
   "mimetype": "text/x-python",
   "name": "python",
   "nbconvert_exporter": "python",
   "pygments_lexer": "ipython3",
   "version": "3.10.10"
  }
 },
 "nbformat": 4,
 "nbformat_minor": 5
}
