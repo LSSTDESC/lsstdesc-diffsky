{
 "cells": [
  {
   "cell_type": "code",
   "execution_count": 1,
   "id": "1265a043",
   "metadata": {},
   "outputs": [],
   "source": [
    "import numpy as np\n",
    "import h5py\n",
    "import glob\n",
    "import os\n",
    "import sys\n",
    "import re\n",
    "import matplotlib.pyplot as plt\n",
    "%matplotlib inline"
   ]
  },
  {
   "cell_type": "code",
   "execution_count": 3,
   "id": "191d8186",
   "metadata": {},
   "outputs": [],
   "source": [
    "halo_dir = '/eagle/LastJourney/prlarsen/halo_lightcone_LJ/pixels_test3/z_0_01/'\n",
    "fn = 'cutout_{}.hdf5'"
   ]
  },
  {
   "cell_type": "code",
   "execution_count": 16,
   "id": "4f25a754",
   "metadata": {},
   "outputs": [],
   "source": [
    "def get_fh_list(halo_dir, fn='cutout'):\n",
    "    file_list = glob.glob(os.path.join(halo_dir, fn + '*.hdf5'))\n",
    "    fh_list = [h5py.File(f, 'r') for f in file_list]\n",
    "    return fh_list"
   ]
  },
  {
   "cell_type": "code",
   "execution_count": 17,
   "id": "2f78fe81",
   "metadata": {},
   "outputs": [
    {
     "name": "stdout",
     "output_type": "stream",
     "text": [
      "[<HDF5 file \"cutout_1.hdf5\" (mode r)>, <HDF5 file \"cutout_3.hdf5\" (mode r)>, <HDF5 file \"cutout_2.hdf5\" (mode r)>, <HDF5 file \"cutout_0.hdf5\" (mode r)>]\n"
     ]
    }
   ],
   "source": [
    "fh_list = get_fh_list(halo_dir)\n",
    "print(fh_list)"
   ]
  },
  {
   "cell_type": "code",
   "execution_count": 23,
   "id": "89c0ab21",
   "metadata": {},
   "outputs": [
    {
     "name": "stdout",
     "output_type": "stream",
     "text": [
      "['421', '475']\n",
      "['a', 'count_idx', 'fof_halo_angmom_x', 'fof_halo_angmom_y', 'fof_halo_angmom_z', 'fof_halo_center_x', 'fof_halo_center_y', 'fof_halo_center_z', 'fof_halo_eigS1X', 'fof_halo_eigS1Y', 'fof_halo_eigS1Z', 'fof_halo_eigS2X', 'fof_halo_eigS2Y', 'fof_halo_eigS2Z', 'fof_halo_eigS3X', 'fof_halo_eigS3Y', 'fof_halo_eigS3Z', 'fof_halo_ke', 'fof_halo_mass', 'fof_halo_max_cir_vel', 'fof_halo_mean_vx', 'fof_halo_mean_vy', 'fof_halo_mean_vz', 'fof_halo_mean_x', 'fof_halo_mean_y', 'fof_halo_mean_z', 'fof_halo_tag', 'fof_halo_vel_disp', 'pixel_id', 'sod_halo_angmom_x', 'sod_halo_angmom_y', 'sod_halo_angmom_z', 'sod_halo_cdelta', 'sod_halo_cdelta_error', 'sod_halo_eigS1X', 'sod_halo_eigS1Y', 'sod_halo_eigS1Z', 'sod_halo_eigS2X', 'sod_halo_eigS2Y', 'sod_halo_eigS2Z', 'sod_halo_eigS3X', 'sod_halo_eigS3Y', 'sod_halo_eigS3Z', 'sod_halo_ke', 'sod_halo_mass', 'sod_halo_max_cir_vel', 'sod_halo_mean_vx', 'sod_halo_mean_vy', 'sod_halo_mean_vz', 'sod_halo_mean_x', 'sod_halo_mean_y', 'sod_halo_mean_z', 'sod_halo_radius', 'sod_halo_vel_disp', 'start_idx', 'vx', 'vy', 'vz', 'x', 'y', 'z']\n"
     ]
    }
   ],
   "source": [
    "fh = fh_list[0]\n",
    "print(list(fh.keys()))\n",
    "steps = list(fh.keys())\n",
    "step = '421'\n",
    "print(list(fh[step].keys()))"
   ]
  },
  {
   "cell_type": "code",
   "execution_count": 32,
   "id": "089e8271",
   "metadata": {},
   "outputs": [
    {
     "name": "stdout",
     "output_type": "stream",
     "text": [
      "421 [  1   5   9  13  17  21  25  29  33  37  41  45  49  53  57  61  65  69\n",
      "  73  77  81  85  89  93  97 101 105 109 113 117 121 125 129 133 137 141\n",
      " 145 149 153 157 161 165 169 173 177 181 185 189 193 197 201 205 209 213\n",
      " 217 221 225 229 233 237 241 245 249 253 257 261 265 269 273 277 281 285\n",
      " 289 293 297 301 305 309 313 317 321 325 329 333 337 341 345 349 353 357\n",
      " 361 365 369 373 377 381 385 389 393 397 401 405 409 413 417 421 425 429\n",
      " 433 437 441 445 449 453 457 461 465 469 473 477 481 485 489 493 497 501\n",
      " 505 509 513 517 521 525 529 533 537 541 545 549 553 557 561 565 569 573\n",
      " 577 581 585 589 593 597 601 605 609 613 617 621 625 629 633 637 641 645\n",
      " 649 653 657 661 665 669 673 677 681 685 689 693 697 701 705 709 713 717\n",
      " 721 725 729 733 737 741 745 749 753 757 761 765] [19517 17193 18234 18356 20107 19580 14362 20325 15566 18231 17457 16884\n",
      " 16732 16592 19405 17005 21791 16738 15591 22718 19807 20037 16485 18227\n",
      " 18332 17929 18711 16334 19002 18980 16629 18513 19441 15499 18673 18121\n",
      " 15085 15112 20238 18752 17753 18760 20848 14670 19352 16173 20317 21813\n",
      " 18539 19965 21611 17932 19420 17582 23799 18187 16220 23333 16844 19883\n",
      " 18109 16343 19370 18393 16520 18133 18686 14911 22128 20422 14625 20071\n",
      " 19803 17382 16690 16471 18896 24528 16464 19480 14962 17096 17215 16654\n",
      " 19090 18680 14570 15161 17787 19122 14835 17342 11963 13972 15734 15192\n",
      " 17379 20151 19234 14783 14251 15991 18552 19972 19252 16529 17092 15924\n",
      " 16955 18817 18849 13482 17846 14180 17844 16509 13701 16536 20265 15053\n",
      " 13437 12660 15219 16646 21201 16798 17519 18838 19580 20149 13114 17753\n",
      " 16969 18128 20085 16998 18910 18581 19168 20080 18485 17955 20582 22426\n",
      " 16801 18925 18428 14874 20544 15296 14893 14289 12385 15111 17673 14447\n",
      " 16776 15506 15658 15773 16145 15898 15860 18257 19708 17701 17112 19768\n",
      " 17120 17470 19943 17663 15566 15237 15267 18378 15443 17051 17895 16737\n",
      " 18405 17579 15697 16678 11484 15477 20349 17211 13050 19292 14845 20043]\n",
      "475 [  1   5   9  13  17  21  25  29  33  37  41  45  49  53  57  61  65  69\n",
      "  73  77  81  85  89  93  97 101 105 109 113 117 121 125 129 133 137 141\n",
      " 145 149 153 157 161 165 169 173 177 181 185 189 193 197 201 205 209 213\n",
      " 217 221 225 229 233 237 241 245 249 253 257 261 265 269 273 277 281 285\n",
      " 289 293 297 301 305 309 313 317 321 325 329 333 337 341 345 349 353 357\n",
      " 361 365 369 373 377 381 385 389 393 397 401 405 409 413 417 421 425 429\n",
      " 433 437 441 445 449 453 457 461 465 469 473 477 481 485 489 493 497 501\n",
      " 505 509 513 517 521 525 529 533 537 541 545 549 553 557 561 565 569 573\n",
      " 577 581 585 589 593 597 601 605 609 613 617 621 625 629 633 637 641 645\n",
      " 649 653 657 661 665 669 673 677 681 685 689 693 697 701 705 709 713 717\n",
      " 721 725 729 733 737 741 745 749 753 757 761 765] [19517 17193 18234 18356 20107 19580 14362 20325 15566 18231 17457 16884\n",
      " 16732 16592 19405 17005 21791 16738 15591 22718 19807 20037 16485 18227\n",
      " 18332 17929 18711 16334 19002 18980 16629 18513 19441 15499 18673 18121\n",
      " 15085 15112 20238 18752 17753 18760 20848 14670 19352 16173 20317 21813\n",
      " 18539 19965 21611 17932 19420 17582 23799 18187 16220 23333 16844 19883\n",
      " 18109 16343 19370 18393 16520 18133 18686 14911 22128 20422 14625 20071\n",
      " 19803 17382 16690 16471 18896 24528 16464 19480 14962 17096 17215 16654\n",
      " 19090 18680 14570 15161 17787 19122 14835 17342 11963 13972 15734 15192\n",
      " 17379 20151 19234 14783 14251 15991 18552 19972 19252 16529 17092 15924\n",
      " 16955 18817 18849 13482 17846 14180 17844 16509 13701 16536 20265 15053\n",
      " 13437 12660 15219 16646 21201 16798 17519 18838 19580 20149 13114 17753\n",
      " 16969 18128 20085 16998 18910 18581 19168 20080 18485 17955 20582 22426\n",
      " 16801 18925 18428 14874 20544 15296 14893 14289 12385 15111 17673 14447\n",
      " 16776 15506 15658 15773 16145 15898 15860 18257 19708 17701 17112 19768\n",
      " 17120 17470 19943 17663 15566 15237 15267 18378 15443 17051 17895 16737\n",
      " 18405 17579 15697 16678 11484 15477 20349 17211 13050 19292 14845 20043]\n"
     ]
    }
   ],
   "source": [
    "for s in steps:\n",
    "    pixels = fh[step]['pixel_id']\n",
    "    counts = fh[step]['count_idx']\n",
    "    starts = fh[step]['start_idx']\n",
    "    print(s, pix[()], counts[()])"
   ]
  },
  {
   "cell_type": "code",
   "execution_count": 35,
   "id": "9c384508",
   "metadata": {},
   "outputs": [
    {
     "name": "stdout",
     "output_type": "stream",
     "text": [
      "pix read_time  = 3.8e-05 min\n",
      "pix read_time  = 0.00065 min\n",
      "pix read_time  = 9.7e-05 min\n",
      "pix read_time  = 6.3e-05 min\n",
      "pix read_time  = 3e-05 min\n",
      "Total time for 5 pixels = 0.00089\n"
     ]
    }
   ],
   "source": [
    "from time import time\n",
    "dsets = {}\n",
    "tag = 'fof_halo_tag'\n",
    "dsets[tag] = {}\n",
    "step = '475'\n",
    "npix=5\n",
    "start_time = time()\n",
    "for i, pix in enumerate(pixels[0:npix]):\n",
    "    ts = time()\n",
    "    start = fh[step]['start_idx'][i]\n",
    "    count = fh[step]['count_idx'][i]\n",
    "    dsets[tag][pix] = fh[step][tag][h5py.MultiBlockSlice(start=start, count=count,\n",
    "                                                         block=1, stride=1)]\n",
    "    print('pix read_time  = {:.2g} min'.format((time() - ts)/60.))\n",
    "                     \n",
    "print('Total time for {} pixels = {:.2g}'.format(len(pixels[0:npix]),\n",
    "                                                 (time()- start_time)/60.))\n",
    "                     "
   ]
  },
  {
   "cell_type": "code",
   "execution_count": null,
   "id": "4eda4f30",
   "metadata": {},
   "outputs": [],
   "source": [
    "for s in dset.iter_chunks():\n",
    "    arr = dset[s]  # get numpy array for chunk"
   ]
  }
 ],
 "metadata": {
  "kernelspec": {
   "display_name": "diffsky",
   "language": "python",
   "name": "diffsky"
  },
  "language_info": {
   "codemirror_mode": {
    "name": "ipython",
    "version": 3
   },
   "file_extension": ".py",
   "mimetype": "text/x-python",
   "name": "python",
   "nbconvert_exporter": "python",
   "pygments_lexer": "ipython3",
   "version": "3.9.16"
  }
 },
 "nbformat": 4,
 "nbformat_minor": 5
}
