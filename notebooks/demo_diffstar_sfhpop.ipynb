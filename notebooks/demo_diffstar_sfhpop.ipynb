{
 "cells": [
  {
   "cell_type": "markdown",
   "id": "add37d0b",
   "metadata": {},
   "source": [
    "# Calculate ${\\rm SFH}(t)$ for a population of galaxies selected from the catalog\n",
    "\n",
    "This notebook shows how to use the Diffstar source code to calculate ${\\rm SFH}(t)$ for a large galaxy population. "
   ]
  },
  {
   "cell_type": "markdown",
   "id": "a1dad7e4",
   "metadata": {},
   "source": [
    "### Read in diffmah and diffstar parameters from the catalog\n",
    "\n",
    "We will read in the catalog, select a sample of red and blue galaxies and compute their star-formation histories"
   ]
  },
  {
   "cell_type": "code",
   "execution_count": null,
   "id": "e0fcfb33",
   "metadata": {
    "tags": []
   },
   "outputs": [],
   "source": [
    "import sys\n",
    "sys.path.insert(0, '/global/homes/k/kovacs/gcr-catalogs_diffsky_v0.1')\n",
    "import numpy as np\n",
    "import GCRCatalogs\n",
    "gc = GCRCatalogs.load_catalog('diffsky_v0.1_p3765_vsmall')\n",
    "native_quantities = sorted(gc.list_all_native_quantities())\n",
    "from lsstdesc_diffsky.constants import MAH_PNAMES, MS_U_PNAMES, Q_U_PNAMES\n",
    "print(MAH_PNAMES, MS_U_PNAMES, Q_U_PNAMES)\n",
    "print(gc.cosmology)"
   ]
  },
  {
   "cell_type": "markdown",
   "id": "757bf6e0",
   "metadata": {},
   "source": [
    "#### Get params from catalog"
   ]
  },
  {
   "cell_type": "code",
   "execution_count": null,
   "id": "f11e586a-767d-41f3-b66d-d8388a26e7a0",
   "metadata": {
    "tags": []
   },
   "outputs": [],
   "source": [
    "cat_data = gc.get_quantities(MAH_PNAMES + MS_U_PNAMES + Q_U_PNAMES + ['redshift', 'mag_r', 'mag_i'])"
   ]
  },
  {
   "cell_type": "markdown",
   "id": "ea8db629-3825-4854-a14d-f80113ecea05",
   "metadata": {
    "tags": []
   },
   "source": [
    "## Define r-i color and define cuts for a red and blue sample"
   ]
  },
  {
   "cell_type": "code",
   "execution_count": null,
   "id": "fab643be-c763-4281-be2c-7753e42ef535",
   "metadata": {
    "tags": []
   },
   "outputs": [],
   "source": [
    "cat_data['r-i'] = cat_data['mag_r'] -  cat_data['mag_i']\n",
    "red_mask = (cat_data['r-i'] > 1.3) &  (cat_data['redshift'] < 1.0)\n",
    "print(np.count_nonzero(red_mask))\n",
    "blue_mask = (cat_data['r-i'] < 0.1) &  (cat_data['redshift'] < 1.0)\n",
    "print(np.count_nonzero(blue_mask))"
   ]
  },
  {
   "cell_type": "markdown",
   "id": "e5cd27ff",
   "metadata": {},
   "source": [
    "### Build the JAX kernel and compute the SFHs\n",
    "\n",
    "In this calculation there is a natural tradeoff between performance in memory and compute cycles. Different options for input kwargs `tobs_loop` and `galpop_loop` have different performance on CPUs/GPUs."
   ]
  },
  {
   "cell_type": "code",
   "execution_count": null,
   "id": "2bc5bbab",
   "metadata": {
    "tags": []
   },
   "outputs": [],
   "source": [
    "T0 = gc.cosmology.age(0.0).value\n",
    "LGT0 = np.log10(T0)"
   ]
  },
  {
   "cell_type": "markdown",
   "id": "a07e3b17-8594-4c04-ae14-72e7bd8dc180",
   "metadata": {},
   "source": [
    "Collect SFH parameters into arrays; define time array"
   ]
  },
  {
   "cell_type": "code",
   "execution_count": null,
   "id": "61517365-11b0-47a7-9e0d-b2e946efbaee",
   "metadata": {
    "tags": []
   },
   "outputs": [],
   "source": [
    "mah_params = np.array([cat_data[_] for _ in MAH_PNAMES]).T\n",
    "ms_u_params = np.array([cat_data[_] for _ in MS_U_PNAMES]).T\n",
    "q_u_params = np.array([cat_data[_] for _ in Q_U_PNAMES]).T\n",
    "#q_u_params = assemble_param_arrays(cat_data, Q_U_PNAMES)\n",
    "print(mah_params.shape, ms_u_params.shape, q_u_params.shape)\n",
    "times = np.linspace(0.1, T0, 100)"
   ]
  },
  {
   "cell_type": "code",
   "execution_count": null,
   "id": "5cfcce45-7099-40bc-87ed-2a0abe382758",
   "metadata": {
    "tags": []
   },
   "outputs": [],
   "source": [
    "from lsstdesc_diffsky.photometry.get_SFH_from_params import get_sfh_from_params\n",
    "sfh_red = get_sfh_from_params(mah_params[red_mask], ms_u_params[red_mask], q_u_params[red_mask], LGT0, times)\n",
    "sfh_blue = get_sfh_from_params(mah_params[blue_mask], ms_u_params[blue_mask], q_u_params[blue_mask], LGT0, times)\n",
    "print(sfh_red.shape, sfh_blue.shape)"
   ]
  },
  {
   "cell_type": "markdown",
   "id": "95324390",
   "metadata": {},
   "source": [
    "### Plot a few example SFHs from our red and blue subsamples"
   ]
  },
  {
   "cell_type": "code",
   "execution_count": null,
   "id": "53a6d04b",
   "metadata": {
    "tags": []
   },
   "outputs": [],
   "source": [
    "%matplotlib inline\n",
    "from matplotlib import pyplot as plt\n",
    "fig, ax_all = plt.subplots(1, 2, figsize=(15, 5), sharey=True)\n",
    "\n",
    "for ax, sfh, color in zip(ax_all.flat, [sfh_red, sfh_blue], ['r', 'blue']):\n",
    "    \n",
    "    for __ in range(25):\n",
    "        iplot = np.random.randint(0, sfh.shape[0])\n",
    "        __ = ax.plot(times, sfh[iplot, :], lw=0.5, color=color)\n",
    "        \n",
    "    ax.set_yscale('log')\n",
    "    ax.set_xlabel('Time (Gyr')\n",
    "    ax.set_ylabel('SFR ($M_\\odot$/yr)')\n",
    "\n",
    "fig.savefig('sfh.png')"
   ]
  },
  {
   "cell_type": "code",
   "execution_count": null,
   "id": "73b5130d",
   "metadata": {},
   "outputs": [],
   "source": []
  },
  {
   "cell_type": "code",
   "execution_count": null,
   "id": "e6bd124e",
   "metadata": {},
   "outputs": [],
   "source": []
  }
 ],
 "metadata": {
  "kernelspec": {
   "display_name": "desc-python",
   "language": "python",
   "name": "desc-python"
  },
  "language_info": {
   "codemirror_mode": {
    "name": "ipython",
    "version": 3
   },
   "file_extension": ".py",
   "mimetype": "text/x-python",
   "name": "python",
   "nbconvert_exporter": "python",
   "pygments_lexer": "ipython3",
   "version": "3.10.10"
  }
 },
 "nbformat": 4,
 "nbformat_minor": 5
}
