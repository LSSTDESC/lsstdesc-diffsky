{
 "cells": [
  {
   "cell_type": "code",
   "execution_count": 11,
   "id": "23a17603-f2d5-4d01-a2dd-f125e02ede75",
   "metadata": {
    "tags": []
   },
   "outputs": [],
   "source": [
    "import os\n",
    "import sys\n",
    "sys.path.insert(0, '/global/homes/k/kovacs/gcr-catalogs_diffsky_v0.1')\n",
    "import numpy as np\n",
    "%matplotlib inline\n",
    "import matplotlib.pyplot as plt\n",
    "import astropy.constants\n",
    "from astropy.constants import iaudata\n",
    "from astropy import units as u\n",
    "import GCRCatalogs"
   ]
  },
  {
   "cell_type": "code",
   "execution_count": 12,
   "id": "b13f8217-2f69-4e5f-927e-76df5fee97e1",
   "metadata": {
    "tags": []
   },
   "outputs": [
    {
     "name": "stdout",
     "output_type": "stream",
     "text": [
      "['diffmah_logmp_fit', 'diffmah_mah_logtc', 'diffmah_early_index', 'diffmah_late_index'] ['diffstar_u_lgmcrit', 'diffstar_u_lgy_at_mcrit', 'diffstar_u_indx_lo', 'diffstar_u_indx_hi', 'diffstar_u_tau_dep'] ['diffstar_u_qt', 'diffstar_u_qs', 'diffstar_u_q_drop', 'diffstar_u_q_rejuv']\n",
      "FlatLambdaCDM(H0=71.0 km / (Mpc s), Om0=0.2648, Tcmb0=0.0 K, Neff=3.04, m_nu=None, Ob0=0.0448)\n"
     ]
    }
   ],
   "source": [
    "gc = GCRCatalogs.load_catalog('diffsky_v0.1_p3765_vsmall')\n",
    "native_quantities = sorted(gc.list_all_native_quantities())\n",
    "from lsstdesc_diffsky.constants import MAH_PNAMES, MS_U_PNAMES, Q_U_PNAMES\n",
    "print(MAH_PNAMES, MS_U_PNAMES, Q_U_PNAMES)\n",
    "DUST_PNAMES = ['dust_Eb', 'dust_delta', 'dust_Av']\n",
    "print(gc.cosmology)"
   ]
  },
  {
   "cell_type": "markdown",
   "id": "01e51fa2-cb37-4347-861b-5ad580d1e854",
   "metadata": {
    "tags": []
   },
   "source": [
    "## Load SSP data"
   ]
  },
  {
   "cell_type": "code",
   "execution_count": 13,
   "id": "f2c7d57c-1bba-497d-a636-219c2c091d28",
   "metadata": {
    "tags": []
   },
   "outputs": [
    {
     "name": "stdout",
     "output_type": "stream",
     "text": [
      "('ssp_lgmet', 'ssp_lg_age_gyr', 'ssp_wave', 'ssp_flux')\n"
     ]
    }
   ],
   "source": [
    "from dsps import calc_rest_sed_sfh_table_met_table\n",
    "DSPS_data_dir = '/global/cfs/cdirs/lsst/groups/CS/Catalog_5000/dsps_data/FSPS_ssp_data/'\n",
    "DSPS_data_fn = 'ssp_data_fsps_v3.2_lgmet_age.h5'\n",
    "from dsps.data_loaders.load_ssp_data import load_ssp_templates\n",
    "ssp_data = load_ssp_templates(fn=os.path.join(DSPS_data_dir, DSPS_data_fn))\n",
    "print(ssp_data._fields)"
   ]
  },
  {
   "cell_type": "code",
   "execution_count": 21,
   "id": "3b0efba7-98d5-4eb1-8350-f728003ea159",
   "metadata": {},
   "outputs": [],
   "source": [
    "#Compute times\n",
    "T0 = gc.cosmology.age(0.0).value\n",
    "LGT0 = np.log10(T0)\n",
    "times = np.linspace(0.1, T0, 100)"
   ]
  },
  {
   "cell_type": "code",
   "execution_count": 14,
   "id": "2e288381-a06c-45f1-99f4-d9ca2c7a4adc",
   "metadata": {},
   "outputs": [],
   "source": [
    "#Load catalog data and select subsample of galaxies\n",
    "cat_data = gc.get_quantities(MAH_PNAMES + MS_U_PNAMES + Q_U_PNAMES + ['redshift', 'mag_r', 'mag_i'])"
   ]
  },
  {
   "cell_type": "code",
   "execution_count": 15,
   "id": "bc1ae9e8-afde-4e6b-ad3c-1e56472cb9e8",
   "metadata": {},
   "outputs": [
    {
     "name": "stdout",
     "output_type": "stream",
     "text": [
      "746\n",
      "337\n"
     ]
    }
   ],
   "source": [
    "cat_data['r-i'] = cat_data['mag_r'] -  cat_data['mag_i']\n",
    "red_mask = (cat_data['r-i'] > 1.5) &  (cat_data['redshift'] < 1.0)\n",
    "print(np.count_nonzero(red_mask))\n",
    "blue_mask = (cat_data['r-i'] < 0.0) &  (cat_data['redshift'] < 1.0)\n",
    "print(np.count_nonzero(blue_mask))"
   ]
  },
  {
   "cell_type": "markdown",
   "id": "cba0b851-09a6-4a35-82c1-a784ca55e63a",
   "metadata": {
    "tags": []
   },
   "source": [
    "# Define function to return galaxy SED"
   ]
  },
  {
   "cell_type": "code",
   "execution_count": 16,
   "id": "5f75e340-b49a-4f3e-8595-6c2995a6e5c2",
   "metadata": {
    "tags": []
   },
   "outputs": [],
   "source": [
    "import galsim\n",
    "\n",
    "def evaluate_rest_sed(galaxy_data, ssp_data, gal_sfh_table, t_table):\n",
    "    \"\"\"Return the rest-frame SED of the galaxy.\"\"\"\n",
    "    zz = galaxy_data['redshift_true']\n",
    "    t_obs = gc.cosmology.lookback_time(zz)\n",
    "    \n",
    "    gal_lgmet = galaxy_data['lg_met_mean']\n",
    "    gal_lgmet_scatter = gal_lgmet_scatter['lg_met_scatter']\n",
    "    \n",
    "    sed_args = (t_table,\n",
    "                gal_sfh_table,\n",
    "                gal_lgmet,\n",
    "                gal_lgmet_scatter,\n",
    "                ssp_data.ssp_lgmet,\n",
    "                ssp_data.ssp_lg_age_gyr,\n",
    "                ssp_data.ssp_flux,\n",
    "                t_obs,\n",
    "                )\n",
    "\n",
    "    rest_sed = calc_rest_sed_sfh_table_lognormal_mdf(*sed_args)\n",
    " \n",
    "    #rest_sed = calc_rest_sed_sfh_table_met_table(*sed_args)  #with metallicity history\n",
    "                            \n",
    "    dust_params = np.array([galaxy_pars[_] for _ in DUST_PNAMES])\n",
    "    atten = _get_att_curve_kern(ssp_data.ssp_wave, dust_params)\n",
    "    \n",
    "    Lnu = np.array(rest_sed*atten)  # Lsun/Hz\n",
    "\n",
    "    # Collect conversion factors = L_sun*ergs_per_joule*clight/4./pi/dl**2\n",
    "    ERG_PER_JOULE = 1e7\n",
    "    CM_PER_MPC = 3.085677581491367e+24\n",
    "    clight = astropy.constants.c.value*1e2  # cm/s\n",
    "    dl = gc.cosmology.luminosity_distance(zz).value*CM_PER_MPC\n",
    "    factor = iaudata.L_sun.value*ERG_PER_JOULE*clight/4/np.pi/dl**2\n",
    "\n",
    "    wl = self.ssp_data.ssp_wave*1e-8  # convert from Angstroms to cm\n",
    "    Flambda = Lnu*factor/wl**2\n",
    "    lut = galsim.LookupTable(ssp_data.ssp_wave, Flambda)\n",
    "    return galsim.SED(lut, wave_type=u.Angstrom, flux_type='flambda')"
   ]
  },
  {
   "cell_type": "code",
   "execution_count": 17,
   "id": "1b5b1b34-ff5e-47ca-bcfe-dae4e21a3c01",
   "metadata": {},
   "outputs": [
    {
     "name": "stdout",
     "output_type": "stream",
     "text": [
      "(19333976, 4) (19333976, 5) (19333976, 4)\n"
     ]
    }
   ],
   "source": [
    "mah_params = np.array([cat_data[_] for _ in MAH_PNAMES]).T\n",
    "ms_u_params = np.array([cat_data[_] for _ in MS_U_PNAMES]).T\n",
    "q_u_params = np.array([cat_data[_] for _ in Q_U_PNAMES]).T\n",
    "#q_u_params = assemble_param_arrays(cat_data, Q_U_PNAMES)\n",
    "print(mah_params.shape, ms_u_params.shape, q_u_params.shape)"
   ]
  },
  {
   "cell_type": "code",
   "execution_count": 22,
   "id": "2eeb07ab-07c8-46dd-bd04-0e38867d617b",
   "metadata": {},
   "outputs": [
    {
     "name": "stdout",
     "output_type": "stream",
     "text": [
      ".......computing SFHs from diffmah/star params for 100 times\n",
      ".......using parameters with shapes (746, 4), (746, 5), (746, 4)\n",
      ".......computing SFHs from diffmah/star params for 100 times\n",
      ".......using parameters with shapes (337, 4), (337, 5), (337, 4)\n",
      "(746, 100) (337, 100)\n"
     ]
    }
   ],
   "source": [
    "from lsstdesc_diffsky.photometry.get_SFH_from_params import get_sfh_from_params\n",
    "sfh_red = get_sfh_from_params(mah_params[red_mask], ms_u_params[red_mask], q_u_params[red_mask], LGT0, times)\n",
    "sfh_blue = get_sfh_from_params(mah_params[blue_mask], ms_u_params[blue_mask], q_u_params[blue_mask], LGT0, times)\n",
    "print(sfh_red.shape, sfh_blue.shape)"
   ]
  },
  {
   "cell_type": "markdown",
   "id": "94aa5391-5599-41b5-9e52-94d7b092c1f0",
   "metadata": {},
   "source": [
    "# Now compute some sample SEDs"
   ]
  },
  {
   "cell_type": "code",
   "execution_count": null,
   "id": "e77bb040-1aef-4766-ba29-21877fe7164d",
   "metadata": {},
   "outputs": [],
   "source": []
  }
 ],
 "metadata": {
  "kernelspec": {
   "display_name": "desc-python",
   "language": "python",
   "name": "desc-python"
  },
  "language_info": {
   "codemirror_mode": {
    "name": "ipython",
    "version": 3
   },
   "file_extension": ".py",
   "mimetype": "text/x-python",
   "name": "python",
   "nbconvert_exporter": "python",
   "pygments_lexer": "ipython3",
   "version": "3.10.10"
  }
 },
 "nbformat": 4,
 "nbformat_minor": 5
}
