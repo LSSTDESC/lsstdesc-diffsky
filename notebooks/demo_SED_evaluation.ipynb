{
 "cells": [
  {
   "cell_type": "code",
   "execution_count": null,
   "id": "23a17603-f2d5-4d01-a2dd-f125e02ede75",
   "metadata": {
    "tags": []
   },
   "outputs": [],
   "source": [
    "import os\n",
    "import sys\n",
    "sys.path.insert(0, '/global/homes/k/kovacs/gcr-catalogs_diffsky_v0.1')\n",
    "import numpy as np\n",
    "%matplotlib inline\n",
    "import matplotlib.pyplot as plt\n",
    "import astropy.constants\n",
    "from astropy.constants import iaudata\n",
    "from astropy import units as u\n",
    "import GCRCatalogs"
   ]
  },
  {
   "cell_type": "markdown",
   "id": "62f37fca-db34-48e6-ae81-c523cb5b5e9e",
   "metadata": {
    "tags": []
   },
   "source": [
    "# Load catalog, define parameter names and define some useful constants"
   ]
  },
  {
   "cell_type": "code",
   "execution_count": null,
   "id": "1dcfc20d-1bb4-4b85-8734-4af5385b3a11",
   "metadata": {
    "tags": []
   },
   "outputs": [],
   "source": [
    "gc = GCRCatalogs.load_catalog('diffsky_v0.1_p3765_vsmall')\n",
    "native_quantities = sorted(gc.list_all_native_quantities())\n",
    "from lsstdesc_diffsky.constants import MAH_PNAMES, MS_U_PNAMES, Q_U_PNAMES\n",
    "print(MAH_PNAMES, MS_U_PNAMES, Q_U_PNAMES)\n",
    "DUST_PNAMES = ['dust_Eb', 'dust_delta', 'dust_Av']\n",
    "met_names = [n for n in native_quantities if 'met' in n]\n",
    "print(gc.cosmology)"
   ]
  },
  {
   "cell_type": "code",
   "execution_count": null,
   "id": "cfc40a39-ccef-44d5-96af-f76f2a163c9e",
   "metadata": {
    "tags": []
   },
   "outputs": [],
   "source": [
    "ERG_PER_JOULE = 1e7\n",
    "CM_PER_MPC = 3.085677581491367e+24"
   ]
  },
  {
   "cell_type": "code",
   "execution_count": null,
   "id": "3b0efba7-98d5-4eb1-8350-f728003ea159",
   "metadata": {},
   "outputs": [],
   "source": [
    "#Compute times\n",
    "T0 = gc.cosmology.age(0.0).value\n",
    "LGT0 = np.log10(T0)\n",
    "times = np.linspace(0.1, T0, 100)"
   ]
  },
  {
   "cell_type": "markdown",
   "id": "01e51fa2-cb37-4347-861b-5ad580d1e854",
   "metadata": {
    "tags": []
   },
   "source": [
    "## Load SSP data"
   ]
  },
  {
   "cell_type": "code",
   "execution_count": null,
   "id": "f2c7d57c-1bba-497d-a636-219c2c091d28",
   "metadata": {
    "tags": []
   },
   "outputs": [],
   "source": [
    "DSPS_data_dir = '/global/cfs/cdirs/lsst/groups/CS/Catalog_5000/dsps_data/FSPS_ssp_data/'\n",
    "DSPS_data_fn = 'ssp_data_fsps_v3.2_lgmet_age.h5'\n",
    "from dsps.data_loaders.load_ssp_data import load_ssp_templates\n",
    "ssp_data = load_ssp_templates(fn=os.path.join(DSPS_data_dir, DSPS_data_fn))\n",
    "print(ssp_data._fields)"
   ]
  },
  {
   "cell_type": "markdown",
   "id": "00a53100-659d-44b5-9a02-aa5c770590ed",
   "metadata": {},
   "source": [
    "# Load catalog data and select subsample of red and blue galaxies"
   ]
  },
  {
   "cell_type": "code",
   "execution_count": null,
   "id": "f63b5600-2979-4e8f-8517-11438c677b5b",
   "metadata": {},
   "outputs": [],
   "source": [
    "cat_data = gc.get_quantities(MAH_PNAMES + MS_U_PNAMES + Q_U_PNAMES + DUST_PNAMES + met_names + ['redshift', 'mag_r', 'mag_i'])"
   ]
  },
  {
   "cell_type": "code",
   "execution_count": null,
   "id": "06f59172-142a-4e90-9db1-22561d39eb99",
   "metadata": {},
   "outputs": [],
   "source": [
    "import pandas as pd\n",
    "df = pd.DataFrame(cat_data)"
   ]
  },
  {
   "cell_type": "code",
   "execution_count": null,
   "id": "e73e8136-2f0b-43f0-989b-7293d3ef82a1",
   "metadata": {},
   "outputs": [],
   "source": [
    "df['r-i'] = df['mag_r'] -  df['mag_i']\n",
    "red_mask = (df['r-i'] > 1.5) &  (df['redshift'] < 1.0)\n",
    "print(np.count_nonzero(red_mask))\n",
    "blue_mask = (df['r-i'] < 0.0) &  (df['redshift'] < 1.0)\n",
    "print(np.count_nonzero(blue_mask))"
   ]
  },
  {
   "cell_type": "markdown",
   "id": "3a78e32d-5cce-4cc4-8b89-f3a8a7946db1",
   "metadata": {},
   "source": [
    "# Retrieve diffmah/diffstar parameters and compute SFHs"
   ]
  },
  {
   "cell_type": "code",
   "execution_count": null,
   "id": "632e6120-0823-416c-9cb9-97bf44848b2b",
   "metadata": {},
   "outputs": [],
   "source": [
    "mah_params = np.array([df[_] for _ in MAH_PNAMES]).T\n",
    "ms_u_params = np.array([df[_] for _ in MS_U_PNAMES]).T\n",
    "q_u_params = np.array([df[_] for _ in Q_U_PNAMES]).T\n",
    "#q_u_params = assemble_param_arrays(cat_data, Q_U_PNAMES)\n",
    "print(mah_params.shape, ms_u_params.shape, q_u_params.shape)"
   ]
  },
  {
   "cell_type": "code",
   "execution_count": null,
   "id": "2eeb07ab-07c8-46dd-bd04-0e38867d617b",
   "metadata": {},
   "outputs": [],
   "source": [
    "from lsstdesc_diffsky.photometry.get_SFH_from_params import get_sfh_from_params\n",
    "sfh_red = get_sfh_from_params(mah_params[red_mask], ms_u_params[red_mask], q_u_params[red_mask], LGT0, times)\n",
    "sfh_blue = get_sfh_from_params(mah_params[blue_mask], ms_u_params[blue_mask], q_u_params[blue_mask], LGT0, times)\n",
    "print(sfh_red.shape, sfh_blue.shape)"
   ]
  },
  {
   "cell_type": "markdown",
   "id": "cba0b851-09a6-4a35-82c1-a784ca55e63a",
   "metadata": {
    "tags": []
   },
   "source": [
    "# Define function to return galaxy SED\n",
    "# Thanks to Jim Chiang for contributing this function.\n",
    "# Note the unit conversions required to produce a galsim SED."
   ]
  },
  {
   "cell_type": "code",
   "execution_count": null,
   "id": "e1944143-5955-4e8b-a94e-35956e1d6ea8",
   "metadata": {
    "tags": []
   },
   "outputs": [],
   "source": [
    "import galsim\n",
    "from dsps import calc_rest_sed_sfh_table_lognormal_mdf\n",
    "def evaluate_rest_sed(galaxy_data, ssp_data, gal_sfh_table, t_table, redshift='redshift'):\n",
    "    \"\"\"Return the rest-frame SED of the galaxy.\"\"\"\n",
    "    zz = galaxy_data[redshift]\n",
    "    t_obs = gc.cosmology.lookback_time(zz)\n",
    "    \n",
    "    gal_lgmet = galaxy_data['lg_met_mean']\n",
    "    gal_lgmet_scatter = galaxy_data['lg_met_scatter']\n",
    "    \n",
    "    sed_args = (t_table,\n",
    "                gal_sfh_table,\n",
    "                gal_lgmet,\n",
    "                gal_lgmet_scatter,\n",
    "                ssp_data.ssp_lgmet,\n",
    "                ssp_data.ssp_lg_age_gyr,\n",
    "                ssp_data.ssp_flux,\n",
    "                t_obs,\n",
    "                )\n",
    "\n",
    "    rest_sed = calc_rest_sed_sfh_table_lognormal_mdf(*sed_args)\n",
    "    \n",
    "    #rest_sed = calc_rest_sed_sfh_table_met_table(*sed_args)  #with metallicity history\n",
    "    atten = 1.0\n",
    "    \n",
    "    Lnu = np.array(rest_sed.rest_sed*atten)  # Lsun/Hz\n",
    "\n",
    "    # Collect conversion factors = L_sun*ergs_per_joule*clight/4./pi/dl**2\n",
    "    clight = astropy.constants.c.value*1e2  # cm/s\n",
    "    dl = gc.cosmology.luminosity_distance(zz).value*CM_PER_MPC\n",
    "    factor = iaudata.L_sun.value*ERG_PER_JOULE*clight/4/np.pi/dl**2\n",
    "\n",
    "    wl = ssp_data.ssp_wave*1e-8  # convert from Angstroms to cm\n",
    "    Flambda = Lnu*factor/wl**2\n",
    "    lut = galsim.LookupTable(ssp_data.ssp_wave, Flambda)\n",
    "    return galsim.SED(lut, wave_type=u.Angstrom, flux_type='flambda')"
   ]
  },
  {
   "cell_type": "code",
   "execution_count": null,
   "id": "cbfccec6-7a9b-469e-953c-1688553434b5",
   "metadata": {
    "tags": []
   },
   "outputs": [],
   "source": [
    "from dsps.dust.att_curves import sbl18_k_lambda, _frac_transmission_from_k_lambda\n",
    "lambda_micron = ssp_data.ssp_wave*1e-4  #Angstrom to microns\n",
    "\n",
    "def get_dust_attenuation(galaxy_pars, lambda_micron):\n",
    "    dust_params = np.array([galaxy_pars[_] for _ in DUST_PNAMES])\n",
    "    k_lambda = sbl18_k_lambda(lambda_micron, galaxy_pars['dust_Eb'], galaxy_pars['dust_delta'])\n",
    "    frac_transmission = _frac_transmission_from_k_lambda(k_lambda, galaxy_pars['dust_Av'])\n",
    "    return frac_transmission"
   ]
  },
  {
   "cell_type": "markdown",
   "id": "94aa5391-5599-41b5-9e52-94d7b092c1f0",
   "metadata": {},
   "source": [
    "# Compute and plot some sample SEDs for color-selected galaxies"
   ]
  },
  {
   "cell_type": "code",
   "execution_count": null,
   "id": "e77bb040-1aef-4766-ba29-21877fe7164d",
   "metadata": {},
   "outputs": [],
   "source": [
    "gals_red = df[red_mask]\n",
    "gals_blue = df[blue_mask]"
   ]
  },
  {
   "cell_type": "code",
   "execution_count": null,
   "id": "f7b68dfa-cc88-4bff-a142-8f962d61e9b3",
   "metadata": {
    "tags": []
   },
   "outputs": [],
   "source": [
    "fig, ax_all = plt.subplots(1, 2, figsize=(15, 5), sharey=True)\n",
    "for ax, gals, sfh, c in zip(ax_all.flat, [gals_red, gals_blue], [sfh_red, sfh_blue], ['r', 'blue']):\n",
    "    for __ in range(3):\n",
    "        iplot = np.random.randint(0, len(gals))\n",
    "        sed = evaluate_rest_sed(gals.iloc[iplot], ssp_data, sfh[iplot], times)\n",
    "        sed_values = sed(sed.wave_list)\n",
    "        ax.plot(sed.wave_list, sed_values, color=c, linestyle='-.', alpha=0.5)\n",
    "        att = get_dust_attenuation(gals.iloc[iplot], lambda_micron)\n",
    "        ax.plot(sed.wave_list, sed_values*att, color=c)\n",
    "\n",
    "    ax.set_yscale('log')\n",
    "    ax.set_xlim(1, 1100)\n",
    "    ax.set_ylim(1e-10, 1e5)\n",
    "    ax.set_xlabel('wavelength (nm)')\n",
    "    ax.set_ylabel('photons/nm/cm^2/s')\n",
    "fig.savefig('sed.png')"
   ]
  },
  {
   "cell_type": "code",
   "execution_count": null,
   "id": "5e0576c9-4658-4ae2-837c-746adc21c950",
   "metadata": {},
   "outputs": [],
   "source": []
  },
  {
   "cell_type": "code",
   "execution_count": null,
   "id": "35416b0c-68af-4e0b-a5fa-df0116673371",
   "metadata": {},
   "outputs": [],
   "source": []
  }
 ],
 "metadata": {
  "kernelspec": {
   "display_name": "desc-python",
   "language": "python",
   "name": "desc-python"
  },
  "language_info": {
   "codemirror_mode": {
    "name": "ipython",
    "version": 3
   },
   "file_extension": ".py",
   "mimetype": "text/x-python",
   "name": "python",
   "nbconvert_exporter": "python",
   "pygments_lexer": "ipython3",
   "version": "3.10.10"
  }
 },
 "nbformat": 4,
 "nbformat_minor": 5
}
